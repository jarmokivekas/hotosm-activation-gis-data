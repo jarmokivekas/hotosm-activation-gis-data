{
  "cells": [
    {
      "cell_type": "code",
      "source": [
        "!ls /home/jarmo/GIS/peru-2019-05/tm-error/\n"
      ],
      "outputs": [
        {
          "output_type": "stream",
          "name": "stdout",
          "text": [
            "6060-tasks-2.geojson  6061-tasks-1.geojson\n",
            "/opt\n"
          ]
        }
      ],
      "execution_count": 7,
      "metadata": {
        "collapsed": false,
        "outputHidden": false,
        "inputHidden": false
      }
    },
    {
      "cell_type": "code",
      "source": [
        "import json\n",
        "import geopandas as gpd\n",
        "import matplotlib.pyplot as plt\n",
        "\n",
        "df1 = gpd.read_file('/home/jarmo/GIS/peru-2019-05/tm-error/6062-tasks-1.geojson')\n",
        "df2 = gpd.read_file('/home/jarmo/GIS/peru-2019-05/tm-error/6062-tasks-2.geojson')\n",
        "plt.scatter(df.taskId, df.taskX)\n",
        "plt.show()"
      ],
      "outputs": [
        {
          "output_type": "error",
          "ename": "NameError",
          "evalue": "name 'df' is not defined",
          "traceback": [
            "\u001b[0;31m---------------------------------------------------------------------------\u001b[0m",
            "\u001b[0;31mNameError\u001b[0m                                 Traceback (most recent call last)",
            "\u001b[0;32m<ipython-input-1-0e12f1657b8c>\u001b[0m in \u001b[0;36m<module>\u001b[0;34m\u001b[0m\n\u001b[1;32m      5\u001b[0m \u001b[0mdf1\u001b[0m \u001b[0;34m=\u001b[0m \u001b[0mgpd\u001b[0m\u001b[0;34m.\u001b[0m\u001b[0mread_file\u001b[0m\u001b[0;34m(\u001b[0m\u001b[0;34m'/home/jarmo/GIS/peru-2019-05/tm-error/6062-tasks-1.geojson'\u001b[0m\u001b[0;34m)\u001b[0m\u001b[0;34m\u001b[0m\u001b[0;34m\u001b[0m\u001b[0m\n\u001b[1;32m      6\u001b[0m \u001b[0mdf2\u001b[0m \u001b[0;34m=\u001b[0m \u001b[0mgpd\u001b[0m\u001b[0;34m.\u001b[0m\u001b[0mread_file\u001b[0m\u001b[0;34m(\u001b[0m\u001b[0;34m'/home/jarmo/GIS/peru-2019-05/tm-error/6062-tasks-2.geojson'\u001b[0m\u001b[0;34m)\u001b[0m\u001b[0;34m\u001b[0m\u001b[0;34m\u001b[0m\u001b[0m\n\u001b[0;32m----> 7\u001b[0;31m \u001b[0mplt\u001b[0m\u001b[0;34m.\u001b[0m\u001b[0mscatter\u001b[0m\u001b[0;34m(\u001b[0m\u001b[0mdf\u001b[0m\u001b[0;34m.\u001b[0m\u001b[0mtaskId\u001b[0m\u001b[0;34m,\u001b[0m \u001b[0mdf\u001b[0m\u001b[0;34m.\u001b[0m\u001b[0mtaskX\u001b[0m\u001b[0;34m)\u001b[0m\u001b[0;34m\u001b[0m\u001b[0;34m\u001b[0m\u001b[0m\n\u001b[0m\u001b[1;32m      8\u001b[0m \u001b[0mplt\u001b[0m\u001b[0;34m.\u001b[0m\u001b[0mshow\u001b[0m\u001b[0;34m(\u001b[0m\u001b[0;34m)\u001b[0m\u001b[0;34m\u001b[0m\u001b[0;34m\u001b[0m\u001b[0m\n",
            "\u001b[0;31mNameError\u001b[0m: name 'df' is not defined"
          ]
        }
      ],
      "execution_count": 1,
      "metadata": {
        "collapsed": false,
        "outputHidden": false,
        "inputHidden": false
      }
    },
    {
      "cell_type": "code",
      "source": [
        "df.head()"
      ],
      "outputs": [
        {
          "output_type": "execute_result",
          "execution_count": 14,
          "data": {
            "text/plain": [
              "   taskId  taskIsSquare taskStatus  taskX   taskY  taskZoom  \\\n",
              "0     303          True     MAPPED  60875  102004        18   \n",
              "1     298          True     MAPPED  60874  102021        18   \n",
              "2     155          True     MAPPED  60868  102018        18   \n",
              "3     371          True     MAPPED  60878  102007        18   \n",
              "4     161         False     MAPPED  60868  102024        18   \n",
              "\n",
              "                                            geometry  \n",
              "0  (POLYGON ((-76.1145212479166 -5.91579565546631...  \n",
              "1  (POLYGON ((-76.1162277855548 -5.88693826439913...  \n",
              "2  (POLYGON ((-76.1264670113834 -5.8920308542837,...  \n",
              "3  (POLYGON ((-76.1094016350023 -5.9107032839113,...  \n",
              "4  (POLYGON ((-76.1264670113834 -5.88103941687373...  "
            ],
            "text/html": [
              "<div>\n",
              "<style scoped>\n",
              "    .dataframe tbody tr th:only-of-type {\n",
              "        vertical-align: middle;\n",
              "    }\n",
              "\n",
              "    .dataframe tbody tr th {\n",
              "        vertical-align: top;\n",
              "    }\n",
              "\n",
              "    .dataframe thead th {\n",
              "        text-align: right;\n",
              "    }\n",
              "</style>\n",
              "<table border=\"1\" class=\"dataframe\">\n",
              "  <thead>\n",
              "    <tr style=\"text-align: right;\">\n",
              "      <th></th>\n",
              "      <th>taskId</th>\n",
              "      <th>taskIsSquare</th>\n",
              "      <th>taskStatus</th>\n",
              "      <th>taskX</th>\n",
              "      <th>taskY</th>\n",
              "      <th>taskZoom</th>\n",
              "      <th>geometry</th>\n",
              "    </tr>\n",
              "  </thead>\n",
              "  <tbody>\n",
              "    <tr>\n",
              "      <th>0</th>\n",
              "      <td>303</td>\n",
              "      <td>True</td>\n",
              "      <td>MAPPED</td>\n",
              "      <td>60875</td>\n",
              "      <td>102004</td>\n",
              "      <td>18</td>\n",
              "      <td>(POLYGON ((-76.1145212479166 -5.91579565546631...</td>\n",
              "    </tr>\n",
              "    <tr>\n",
              "      <th>1</th>\n",
              "      <td>298</td>\n",
              "      <td>True</td>\n",
              "      <td>MAPPED</td>\n",
              "      <td>60874</td>\n",
              "      <td>102021</td>\n",
              "      <td>18</td>\n",
              "      <td>(POLYGON ((-76.1162277855548 -5.88693826439913...</td>\n",
              "    </tr>\n",
              "    <tr>\n",
              "      <th>2</th>\n",
              "      <td>155</td>\n",
              "      <td>True</td>\n",
              "      <td>MAPPED</td>\n",
              "      <td>60868</td>\n",
              "      <td>102018</td>\n",
              "      <td>18</td>\n",
              "      <td>(POLYGON ((-76.1264670113834 -5.8920308542837,...</td>\n",
              "    </tr>\n",
              "    <tr>\n",
              "      <th>3</th>\n",
              "      <td>371</td>\n",
              "      <td>True</td>\n",
              "      <td>MAPPED</td>\n",
              "      <td>60878</td>\n",
              "      <td>102007</td>\n",
              "      <td>18</td>\n",
              "      <td>(POLYGON ((-76.1094016350023 -5.9107032839113,...</td>\n",
              "    </tr>\n",
              "    <tr>\n",
              "      <th>4</th>\n",
              "      <td>161</td>\n",
              "      <td>False</td>\n",
              "      <td>MAPPED</td>\n",
              "      <td>60868</td>\n",
              "      <td>102024</td>\n",
              "      <td>18</td>\n",
              "      <td>(POLYGON ((-76.1264670113834 -5.88103941687373...</td>\n",
              "    </tr>\n",
              "  </tbody>\n",
              "</table>\n",
              "</div>"
            ]
          },
          "metadata": {}
        }
      ],
      "execution_count": 14,
      "metadata": {
        "collapsed": false,
        "outputHidden": false,
        "inputHidden": false
      }
    },
    {
      "cell_type": "code",
      "source": [
        "df1[df1.taskId == 416]"
      ],
      "outputs": [
        {
          "output_type": "execute_result",
          "execution_count": 19,
          "data": {
            "text/plain": [
              "     taskId  taskIsSquare taskStatus  taskX   taskY  taskZoom  \\\n",
              "268     416          True      READY  60880  102015        18   \n",
              "\n",
              "                                              geometry  \n",
              "268  (POLYGON ((-76.1059885597261 -5.89712339745634...  "
            ],
            "text/html": [
              "<div>\n",
              "<style scoped>\n",
              "    .dataframe tbody tr th:only-of-type {\n",
              "        vertical-align: middle;\n",
              "    }\n",
              "\n",
              "    .dataframe tbody tr th {\n",
              "        vertical-align: top;\n",
              "    }\n",
              "\n",
              "    .dataframe thead th {\n",
              "        text-align: right;\n",
              "    }\n",
              "</style>\n",
              "<table border=\"1\" class=\"dataframe\">\n",
              "  <thead>\n",
              "    <tr style=\"text-align: right;\">\n",
              "      <th></th>\n",
              "      <th>taskId</th>\n",
              "      <th>taskIsSquare</th>\n",
              "      <th>taskStatus</th>\n",
              "      <th>taskX</th>\n",
              "      <th>taskY</th>\n",
              "      <th>taskZoom</th>\n",
              "      <th>geometry</th>\n",
              "    </tr>\n",
              "  </thead>\n",
              "  <tbody>\n",
              "    <tr>\n",
              "      <th>268</th>\n",
              "      <td>416</td>\n",
              "      <td>True</td>\n",
              "      <td>READY</td>\n",
              "      <td>60880</td>\n",
              "      <td>102015</td>\n",
              "      <td>18</td>\n",
              "      <td>(POLYGON ((-76.1059885597261 -5.89712339745634...</td>\n",
              "    </tr>\n",
              "  </tbody>\n",
              "</table>\n",
              "</div>"
            ]
          },
          "metadata": {}
        }
      ],
      "execution_count": 19,
      "metadata": {
        "collapsed": false,
        "outputHidden": false,
        "inputHidden": false
      }
    },
    {
      "cell_type": "code",
      "source": [
        "df2[df2.taskZoom != 18]"
      ],
      "outputs": [
        {
          "output_type": "execute_result",
          "execution_count": 4,
          "data": {
            "text/plain": [
              "     taskId  taskIsSquare taskStatus   taskX   taskY  taskZoom  \\\n",
              "209     460          True     MAPPED  121760  204031        19   \n",
              "213     461          True     MAPPED  121761  204030        19   \n",
              "333     458          True     MAPPED  121757  204035        19   \n",
              "334     455          True     MAPPED  121756  204034        19   \n",
              "408     457          True     MAPPED  121757  204034        19   \n",
              "446     459          True     MAPPED  121760  204030        19   \n",
              "447     462          True     MAPPED  121761  204031        19   \n",
              "449     456          True     MAPPED  121756  204035        19   \n",
              "\n",
              "                                              geometry  \n",
              "209  (POLYGON ((-96.3940429514833 -37.020646428181,...  \n",
              "213  (POLYGON ((-96.3933563059756 -37.0211946567447...  \n",
              "333  (POLYGON ((-96.3961028880064 -37.0184534743673...  \n",
              "334  (POLYGON ((-96.3967895335141 -37.0190017187545...  \n",
              "408  (POLYGON ((-96.3961028880064 -37.0190017187545...  \n",
              "446  (POLYGON ((-96.3940429514833 -37.0211946567447...  \n",
              "447  (POLYGON ((-96.3933563059756 -37.020646428181,...  \n",
              "449  (POLYGON ((-96.3967895335141 -37.0184534743673...  "
            ],
            "text/html": [
              "<div>\n",
              "<style scoped>\n",
              "    .dataframe tbody tr th:only-of-type {\n",
              "        vertical-align: middle;\n",
              "    }\n",
              "\n",
              "    .dataframe tbody tr th {\n",
              "        vertical-align: top;\n",
              "    }\n",
              "\n",
              "    .dataframe thead th {\n",
              "        text-align: right;\n",
              "    }\n",
              "</style>\n",
              "<table border=\"1\" class=\"dataframe\">\n",
              "  <thead>\n",
              "    <tr style=\"text-align: right;\">\n",
              "      <th></th>\n",
              "      <th>taskId</th>\n",
              "      <th>taskIsSquare</th>\n",
              "      <th>taskStatus</th>\n",
              "      <th>taskX</th>\n",
              "      <th>taskY</th>\n",
              "      <th>taskZoom</th>\n",
              "      <th>geometry</th>\n",
              "    </tr>\n",
              "  </thead>\n",
              "  <tbody>\n",
              "    <tr>\n",
              "      <th>209</th>\n",
              "      <td>460</td>\n",
              "      <td>True</td>\n",
              "      <td>MAPPED</td>\n",
              "      <td>121760</td>\n",
              "      <td>204031</td>\n",
              "      <td>19</td>\n",
              "      <td>(POLYGON ((-96.3940429514833 -37.020646428181,...</td>\n",
              "    </tr>\n",
              "    <tr>\n",
              "      <th>213</th>\n",
              "      <td>461</td>\n",
              "      <td>True</td>\n",
              "      <td>MAPPED</td>\n",
              "      <td>121761</td>\n",
              "      <td>204030</td>\n",
              "      <td>19</td>\n",
              "      <td>(POLYGON ((-96.3933563059756 -37.0211946567447...</td>\n",
              "    </tr>\n",
              "    <tr>\n",
              "      <th>333</th>\n",
              "      <td>458</td>\n",
              "      <td>True</td>\n",
              "      <td>MAPPED</td>\n",
              "      <td>121757</td>\n",
              "      <td>204035</td>\n",
              "      <td>19</td>\n",
              "      <td>(POLYGON ((-96.3961028880064 -37.0184534743673...</td>\n",
              "    </tr>\n",
              "    <tr>\n",
              "      <th>334</th>\n",
              "      <td>455</td>\n",
              "      <td>True</td>\n",
              "      <td>MAPPED</td>\n",
              "      <td>121756</td>\n",
              "      <td>204034</td>\n",
              "      <td>19</td>\n",
              "      <td>(POLYGON ((-96.3967895335141 -37.0190017187545...</td>\n",
              "    </tr>\n",
              "    <tr>\n",
              "      <th>408</th>\n",
              "      <td>457</td>\n",
              "      <td>True</td>\n",
              "      <td>MAPPED</td>\n",
              "      <td>121757</td>\n",
              "      <td>204034</td>\n",
              "      <td>19</td>\n",
              "      <td>(POLYGON ((-96.3961028880064 -37.0190017187545...</td>\n",
              "    </tr>\n",
              "    <tr>\n",
              "      <th>446</th>\n",
              "      <td>459</td>\n",
              "      <td>True</td>\n",
              "      <td>MAPPED</td>\n",
              "      <td>121760</td>\n",
              "      <td>204030</td>\n",
              "      <td>19</td>\n",
              "      <td>(POLYGON ((-96.3940429514833 -37.0211946567447...</td>\n",
              "    </tr>\n",
              "    <tr>\n",
              "      <th>447</th>\n",
              "      <td>462</td>\n",
              "      <td>True</td>\n",
              "      <td>MAPPED</td>\n",
              "      <td>121761</td>\n",
              "      <td>204031</td>\n",
              "      <td>19</td>\n",
              "      <td>(POLYGON ((-96.3933563059756 -37.020646428181,...</td>\n",
              "    </tr>\n",
              "    <tr>\n",
              "      <th>449</th>\n",
              "      <td>456</td>\n",
              "      <td>True</td>\n",
              "      <td>MAPPED</td>\n",
              "      <td>121756</td>\n",
              "      <td>204035</td>\n",
              "      <td>19</td>\n",
              "      <td>(POLYGON ((-96.3967895335141 -37.0184534743673...</td>\n",
              "    </tr>\n",
              "  </tbody>\n",
              "</table>\n",
              "</div>"
            ]
          },
          "metadata": {}
        }
      ],
      "execution_count": 4,
      "metadata": {
        "collapsed": false,
        "outputHidden": false,
        "inputHidden": false
      }
    },
    {
      "cell_type": "code",
      "source": [
        "import json\n",
        "import geopandas as gpd\n",
        "import matplotlib.pyplot as plt\n",
        "\n",
        "df1 = gpd.read_file('/home/jarmo/GIS/peru-2019-05/tm-error/6062-tasks-1.geojson')\n",
        "df2 = gpd.read_file('/home/jarmo/GIS/peru-2019-05/tm-error/6062-tasks-2.geojson')\n",
        "\n",
        "\n",
        "import split_service_debug as ss\n",
        "task = df1[df1.taskId == 416]\n",
        "task.columns = ['id','is_square','status','x','y','zoom','geometry']\n",
        "task = task.iloc[0]\n",
        "task.is_square\n",
        "ss.SplitService._create_split_tasks(task.x,task.y,task.zoom, task)\n"
      ],
      "outputs": [
        {
          "output_type": "stream",
          "name": "stdout",
          "text": [
            "unhandled error splitting tile: 'MultiPolygon' object has no attribute 'coordinates'\n"
          ]
        }
      ],
      "execution_count": 2,
      "metadata": {
        "collapsed": false,
        "outputHidden": false,
        "inputHidden": false
      }
    },
    {
      "cell_type": "code",
      "source": [
        " "
      ],
      "outputs": [],
      "execution_count": null,
      "metadata": {
        "collapsed": false,
        "outputHidden": false,
        "inputHidden": false
      }
    }
  ],
  "metadata": {
    "kernel_info": {
      "name": "python3"
    },
    "language_info": {
      "name": "python",
      "version": "3.7.3",
      "mimetype": "text/x-python",
      "codemirror_mode": {
        "name": "ipython",
        "version": 3
      },
      "pygments_lexer": "ipython3",
      "nbconvert_exporter": "python",
      "file_extension": ".py"
    },
    "kernelspec": {
      "name": "python3",
      "language": "python",
      "display_name": "Python 3"
    },
    "nteract": {
      "version": "0.14.3"
    }
  },
  "nbformat": 4,
  "nbformat_minor": 0
}