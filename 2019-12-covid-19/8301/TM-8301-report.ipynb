{
  "cells": [
    {
      "cell_type": "markdown",
      "source": [
        "# HOTOSM TM Project 8301 validation\n",
        "\n",
        "This notebook performs basic validation of data in the HOTOSM Taskin Manager Project #8301\n",
        "\n",
        "OSM data export used for analysis is available at:\n"
      ],
      "metadata": {
        "nteract": {
          "transient": {
            "deleting": false
          }
        }
      }
    },
    {
      "cell_type": "code",
      "source": [
        "# SET MANUALLY after configuring the export\n",
        "EXPORT_UID = '4d19a6bd-949d-48bc-8265-352c21468410'\n",
        "\n",
        "print(f'https://export.hotosm.org/en/v3/exports/{EXPORT_UID}')"
      ],
      "outputs": [
        {
          "output_type": "stream",
          "name": "stdout",
          "text": [
            "https://export.hotosm.org/en/v3/exports/4d19a6bd-949d-48bc-8265-352c21468410\n"
          ]
        }
      ],
      "execution_count": 81,
      "metadata": {
        "collapsed": true,
        "outputExpanded": false,
        "jupyter": {
          "source_hidden": false,
          "outputs_hidden": false
        },
        "nteract": {
          "transient": {
            "deleting": false
          }
        },
        "execution": {
          "shell.execute_reply": "2020-04-22T09:26:50.610Z",
          "iopub.status.busy": "2020-04-22T09:26:50.584Z",
          "iopub.execute_input": "2020-04-22T09:26:50.589Z",
          "iopub.status.idle": "2020-04-22T09:26:50.605Z"
        }
      }
    },
    {
      "cell_type": "code",
      "source": [
        "import geopandas as gpd\n",
        "import matplotlib.pyplot as plt\n",
        "\n",
        "import json\n",
        "import requests\n",
        "from datetime import datetime\n",
        "from IPython.display import JSON, HTML\n",
        "from zipfile import ZipFile\n",
        "from tempfile import TemporaryFile\n",
        "from pathlib import Path\n",
        "from glob import glob\n",
        "\n",
        "gpd.pd.set_option('display.max_rows', 500)\n",
        "\n",
        "def init_figure():\n",
        "\n",
        "    fig = plt.figure()\n",
        "    ax = fig.add_subplot(1, 1, 1)\n",
        "    gpd.read_file('clipping_boundary.geojson').plot(ax=ax, color='orange', alpha=0.5, edgecolor='black')\n",
        "    return fig,ax\n",
        "def dump_points(gdf, filename):\n",
        "    \"\"\"helper function for writing geojson and plots\"\"\"\n",
        "    display(HTML(f'<pre><a href=\"{filename}\">{filename}</pre></a>'))\n",
        "    fig,ax = init_figure()\n",
        "    gdf.plot(ax= ax,marker='.')\n",
        "    plt.show()\n",
        "    with open(filename, 'w') as file:\n",
        "        file.write(gdf.to_json())"
      ],
      "outputs": [],
      "execution_count": 82,
      "metadata": {
        "collapsed": true,
        "outputExpanded": false,
        "jupyter": {
          "source_hidden": false,
          "outputs_hidden": false
        },
        "nteract": {
          "transient": {
            "deleting": false
          }
        },
        "execution": {
          "iopub.status.busy": "2020-04-22T09:27:39.349Z",
          "iopub.execute_input": "2020-04-22T09:27:39.355Z",
          "shell.execute_reply": "2020-04-22T09:27:39.384Z",
          "iopub.status.idle": "2020-04-22T09:27:39.365Z"
        }
      }
    },
    {
      "cell_type": "markdown",
      "source": [
        "# Latest data export status"
      ],
      "metadata": {
        "nteract": {
          "transient": {
            "deleting": false
          }
        }
      }
    },
    {
      "cell_type": "code",
      "source": [
        "q = requests.get(f'https://export.hotosm.org/api/jobs/{EXPORT_UID}')\n",
        "export = json.loads(q.content.decode())\n",
        "\n",
        "# pretty print some debug data\n",
        "keep_fields = ['uid','name','description','osma_link','export_formats']\n",
        "export = {field: export[field] for field in keep_fields}\n",
        "print(\"Export tool info\")\n",
        "print(\"================\")\n",
        "print(json.dumps(export, indent=2))\n",
        "\n",
        "uid = export['uid']\n",
        "runs = requests.get(f'https://export.hotosm.org/api/runs?job_uid={uid}')\n",
        "runs = runs.content.decode()\n",
        "runs = json.loads(runs)\n",
        "\n",
        "assert len(runs) > 0\n",
        "\n",
        "sorted_runs = sorted(runs, key=lambda k: k['started_at']) \n",
        "latest_run = sorted_runs[-1]\n",
        "\n",
        "if len(sorted_runs) > 1:\n",
        "    assert sorted_runs[-1]['started_at'] > sorted_runs[-2]['started_at']\n",
        "assert latest_run['status'] == 'COMPLETED'\n",
        "\n",
        "# find the latest download link\n",
        "export_download_url = None\n",
        "\n",
        "for task in latest_run['tasks']:\n",
        "    if task['name'] == 'shp':\n",
        "        assert task['status'] == 'SUCCESS'\n",
        "        export_download_url = 'https://' + task['download_urls'][0]['absolute_download_url']\n",
        "        break\n",
        "        \n",
        "assert export_download_url is not None\n",
        "\n",
        "\n",
        "print(\"Latest run info\")\n",
        "print(\"===============\")\n",
        "keep_fields = ['uid','started_at','status']\n",
        "latest_run = {field: latest_run[field] for field in keep_fields}\n",
        "print(json.dumps(latest_run, indent=2))"
      ],
      "outputs": [
        {
          "output_type": "stream",
          "name": "stdout",
          "text": [
            "Export tool info\n",
            "================\n",
            "{\n",
            "  \"uid\": \"4d19a6bd-949d-48bc-8265-352c21468410\",\n",
            "  \"name\": \"HOTOSM-TM-project-8301-validation-data\",\n",
            "  \"description\": \"Data export for HOTOSM tasking manager project 8301 automated validation. Includes nodes with place tag\",\n",
            "  \"osma_link\": \"http://osm-analytics.org/#/show/bbox:-73.9811021079999,-15.4582882329999,-70.3450719799999,-11.212293479/buildings/recency\",\n",
            "  \"export_formats\": [\n",
            "    \"geopackage\",\n",
            "    \"osm_pbf\",\n",
            "    \"shp\"\n",
            "  ]\n",
            "}\n",
            "Latest run info\n",
            "===============\n",
            "{\n",
            "  \"uid\": \"56d96a61-e487-4f17-8355-b52d0c1c14f0\",\n",
            "  \"started_at\": \"2020-04-22T07:24:17.378055Z\",\n",
            "  \"status\": \"COMPLETED\"\n",
            "}\n"
          ]
        }
      ],
      "execution_count": 71,
      "metadata": {
        "collapsed": true,
        "outputExpanded": false,
        "jupyter": {
          "source_hidden": false,
          "outputs_hidden": false
        },
        "nteract": {
          "transient": {
            "deleting": false
          }
        },
        "execution": {
          "iopub.status.busy": "2020-04-22T09:23:43.039Z",
          "iopub.execute_input": "2020-04-22T09:23:43.047Z",
          "iopub.status.idle": "2020-04-22T09:23:44.574Z",
          "shell.execute_reply": "2020-04-22T09:23:44.615Z"
        }
      }
    },
    {
      "cell_type": "code",
      "source": [
        "### download data and extract it form zip file \n",
        "### Also performs cast data into easier to work with\n",
        "### datatypes.\n",
        "\n",
        "resp = requests.get(export_download_url)\n",
        "zip_file = TemporaryFile()\n",
        "zip_file.write(resp.content)\n",
        "archive = ZipFile(zip_file).extractall()\n",
        "\n",
        "shapefiles = glob('*.shp')\n",
        "assert len(shapefiles) == 1\n",
        "shp_file = shapefiles[0]\n",
        "\n",
        "points = gpd.read_file(shp_file)\n",
        "assert len(points) != 0\n",
        "\n",
        "# fix some column names. shapefiles have\n",
        "# stange ways of being case sensitive\n",
        "points = points.rename(columns = {\n",
        "        'fixme_1': 'fixme',\n",
        "        'FIXME': 'FIXME_1',\n",
        "})\n",
        "points = points.rename(columns = {'NAME': 'name'})\n",
        "points = points.rename(columns = {'name_1': 'NAME_1'})\n",
        "\n",
        "\n",
        "def cast(to_type, ndata=None):\n",
        "    return lambda x: to_type(x) if x is not None else ndata\n",
        "\n",
        "points['ele']    = points['ele'].apply(cast(float))\n",
        "points['ELE_1']  = points['ELE_1'].apply(cast(float))\n",
        "points['osm_id'] = points['osm_id'].apply(cast(int))\n",
        "points['population'] = points['population'].apply(cast(float))\n",
        "\n",
        "# get the list of columns, and remove all non-string columsn\n",
        "cols = list(points.columns)\n",
        "cols.remove('ele')\n",
        "cols.remove('ELE_1')\n",
        "cols.remove('osm_id')\n",
        "cols.remove('population')\n",
        "cols.remove('geometry')\n",
        "for col in cols:    \n",
        "    points[col] = points[col].apply(cast(str, None))\n",
        "points.head(3)"
      ],
      "outputs": [
        {
          "output_type": "execute_result",
          "execution_count": 72,
          "data": {
            "text/plain": [
              "      osm_id comment  note     ele  population           name ELE_1 FIXME_1  \\\n",
              "0   59115290    None  None  3400.0    420137.0          Cusco  None    None   \n",
              "1  218899629    None  None  3243.0         NaN   San Jerónimo  None    None   \n",
              "2  257938074    None  None     NaN         NaN  Ollantaytambo  None    None   \n",
              "\n",
              "  source fixme descriptio    place NAME_1                         geometry  \n",
              "0   None  None       None     city   None  POINT (-71.9785356 -13.5170887)  \n",
              "1   None  None       None   suburb   None  POINT (-71.8840606 -13.5445072)  \n",
              "2   None  None       None  village   None  POINT (-72.2636012 -13.2586458)  "
            ],
            "text/html": [
              "<div>\n",
              "<style scoped>\n",
              "    .dataframe tbody tr th:only-of-type {\n",
              "        vertical-align: middle;\n",
              "    }\n",
              "\n",
              "    .dataframe tbody tr th {\n",
              "        vertical-align: top;\n",
              "    }\n",
              "\n",
              "    .dataframe thead th {\n",
              "        text-align: right;\n",
              "    }\n",
              "</style>\n",
              "<table border=\"1\" class=\"dataframe\">\n",
              "  <thead>\n",
              "    <tr style=\"text-align: right;\">\n",
              "      <th></th>\n",
              "      <th>osm_id</th>\n",
              "      <th>comment</th>\n",
              "      <th>note</th>\n",
              "      <th>ele</th>\n",
              "      <th>population</th>\n",
              "      <th>name</th>\n",
              "      <th>ELE_1</th>\n",
              "      <th>FIXME_1</th>\n",
              "      <th>source</th>\n",
              "      <th>fixme</th>\n",
              "      <th>descriptio</th>\n",
              "      <th>place</th>\n",
              "      <th>NAME_1</th>\n",
              "      <th>geometry</th>\n",
              "    </tr>\n",
              "  </thead>\n",
              "  <tbody>\n",
              "    <tr>\n",
              "      <th>0</th>\n",
              "      <td>59115290</td>\n",
              "      <td>None</td>\n",
              "      <td>None</td>\n",
              "      <td>3400.0</td>\n",
              "      <td>420137.0</td>\n",
              "      <td>Cusco</td>\n",
              "      <td>None</td>\n",
              "      <td>None</td>\n",
              "      <td>None</td>\n",
              "      <td>None</td>\n",
              "      <td>None</td>\n",
              "      <td>city</td>\n",
              "      <td>None</td>\n",
              "      <td>POINT (-71.9785356 -13.5170887)</td>\n",
              "    </tr>\n",
              "    <tr>\n",
              "      <th>1</th>\n",
              "      <td>218899629</td>\n",
              "      <td>None</td>\n",
              "      <td>None</td>\n",
              "      <td>3243.0</td>\n",
              "      <td>NaN</td>\n",
              "      <td>San Jerónimo</td>\n",
              "      <td>None</td>\n",
              "      <td>None</td>\n",
              "      <td>None</td>\n",
              "      <td>None</td>\n",
              "      <td>None</td>\n",
              "      <td>suburb</td>\n",
              "      <td>None</td>\n",
              "      <td>POINT (-71.8840606 -13.5445072)</td>\n",
              "    </tr>\n",
              "    <tr>\n",
              "      <th>2</th>\n",
              "      <td>257938074</td>\n",
              "      <td>None</td>\n",
              "      <td>None</td>\n",
              "      <td>NaN</td>\n",
              "      <td>NaN</td>\n",
              "      <td>Ollantaytambo</td>\n",
              "      <td>None</td>\n",
              "      <td>None</td>\n",
              "      <td>None</td>\n",
              "      <td>None</td>\n",
              "      <td>None</td>\n",
              "      <td>village</td>\n",
              "      <td>None</td>\n",
              "      <td>POINT (-72.2636012 -13.2586458)</td>\n",
              "    </tr>\n",
              "  </tbody>\n",
              "</table>\n",
              "</div>"
            ]
          },
          "metadata": {}
        }
      ],
      "execution_count": 72,
      "metadata": {
        "collapsed": true,
        "outputExpanded": false,
        "jupyter": {
          "source_hidden": false,
          "outputs_hidden": false
        },
        "nteract": {
          "transient": {
            "deleting": false
          }
        },
        "execution": {
          "iopub.status.busy": "2020-04-22T09:23:44.586Z",
          "iopub.execute_input": "2020-04-22T09:23:44.594Z",
          "iopub.status.idle": "2020-04-22T09:23:45.898Z",
          "shell.execute_reply": "2020-04-22T09:23:45.874Z"
        }
      }
    },
    {
      "cell_type": "markdown",
      "source": [
        "# Numbers of non-null values in each field\n",
        "\n",
        "Informational values for convenience. Lists shows the total number or different unique values for each key in the dataset."
      ],
      "metadata": {
        "nteract": {
          "transient": {
            "deleting": false
          }
        }
      }
    },
    {
      "cell_type": "code",
      "source": [
        "points.count()"
      ],
      "outputs": [
        {
          "output_type": "execute_result",
          "execution_count": 73,
          "data": {
            "text/plain": [
              "osm_id        1717\n",
              "comment          0\n",
              "note             0\n",
              "ele            130\n",
              "population      56\n",
              "name          1612\n",
              "ELE_1            0\n",
              "FIXME_1        113\n",
              "source         527\n",
              "fixme            0\n",
              "descriptio       2\n",
              "place         1717\n",
              "NAME_1           0\n",
              "geometry      1717\n",
              "dtype: int64"
            ]
          },
          "metadata": {}
        }
      ],
      "execution_count": 73,
      "metadata": {
        "collapsed": true,
        "outputExpanded": false,
        "jupyter": {
          "source_hidden": false,
          "outputs_hidden": false
        },
        "nteract": {
          "transient": {
            "deleting": false
          }
        },
        "execution": {
          "iopub.status.busy": "2020-04-22T09:23:45.908Z",
          "iopub.execute_input": "2020-04-22T09:23:45.914Z",
          "iopub.status.idle": "2020-04-22T09:23:45.925Z",
          "shell.execute_reply": "2020-04-22T09:23:45.880Z"
        }
      }
    },
    {
      "cell_type": "markdown",
      "source": [
        "# All different _place_ key values \n",
        "\n",
        "Manually sanity-check that the list below only has allowed values. It is the list of all values used in the AOI."
      ],
      "metadata": {
        "nteract": {
          "transient": {
            "deleting": false
          }
        }
      }
    },
    {
      "cell_type": "code",
      "source": [
        "print(points.place.unique())"
      ],
      "outputs": [
        {
          "output_type": "stream",
          "name": "stdout",
          "text": [
            "['city' 'suburb' 'village' 'town' 'hamlet' 'isolated_dwelling'\n",
            " 'neighbourhood' 'square' 'state' 'region' 'locality' 'farm' 'city_block']\n"
          ]
        }
      ],
      "execution_count": 74,
      "metadata": {
        "collapsed": true,
        "outputExpanded": false,
        "jupyter": {
          "source_hidden": false,
          "outputs_hidden": false
        },
        "nteract": {
          "transient": {
            "deleting": false
          }
        },
        "execution": {
          "iopub.status.busy": "2020-04-22T09:23:45.933Z",
          "iopub.execute_input": "2020-04-22T09:23:45.938Z",
          "iopub.status.idle": "2020-04-22T09:23:45.947Z",
          "shell.execute_reply": "2020-04-22T09:23:45.888Z"
        }
      }
    },
    {
      "cell_type": "markdown",
      "source": [
        "# Find Duplicate Place Names\n",
        "\n",
        "Ther _may_ be dupliacate names. Geography is not taken into account. It is possible for ultiple places to have the same name."
      ],
      "metadata": {
        "nteract": {
          "transient": {
            "deleting": false
          }
        }
      }
    },
    {
      "cell_type": "code",
      "source": [
        "dup = points.loc[points.name.isnull() == False]\n",
        "print('Points with a name:',len(dup))\n",
        "dup = dup.loc[dup.name.duplicated(keep=False) == True]\n",
        "print('points with a duplicate name:', len(dup))\n",
        "\n",
        "dump_points(dup, 'duplicate_names.geojson')"
      ],
      "outputs": [
        {
          "output_type": "stream",
          "name": "stdout",
          "text": [
            "Points with a name: 1612\n",
            "points with a duplicate name: 221\n"
          ]
        },
        {
          "output_type": "display_data",
          "data": {
            "text/plain": [
              "<IPython.core.display.HTML object>"
            ],
            "text/html": [
              "<pre><a href=\"duplicate_names.geojson\">duplicate_names.geojson</pre></a>"
            ]
          },
          "metadata": {}
        },
        {
          "output_type": "display_data",
          "data": {
            "text/plain": [
              "<Figure size 432x288 with 1 Axes>"
            ],
            "image/png": "[encoded data removed]"
          },
          "metadata": {
            "needs_background": "light"
          }
        }
      ],
      "execution_count": 75,
      "metadata": {
        "collapsed": true,
        "outputExpanded": false,
        "jupyter": {
          "source_hidden": false,
          "outputs_hidden": false
        },
        "nteract": {
          "transient": {
            "deleting": false
          }
        },
        "execution": {
          "iopub.status.busy": "2020-04-22T09:23:45.955Z",
          "iopub.execute_input": "2020-04-22T09:23:45.962Z",
          "iopub.status.idle": "2020-04-22T09:23:46.101Z",
          "shell.execute_reply": "2020-04-22T09:23:46.092Z"
        }
      }
    },
    {
      "cell_type": "markdown",
      "source": [
        "# Place name issues\n",
        "\n",
        "All places shall have a 'name' attribute.\n",
        "\n",
        "This lists all nodes with:\n",
        "\n",
        "1. no 'name' attribute\n",
        "2. a 'fixme'='name' attribute indicating name needs to be checked."
      ],
      "metadata": {
        "nteract": {
          "transient": {
            "deleting": false
          }
        }
      }
    },
    {
      "cell_type": "code",
      "source": [
        "name_empty = points[(points.name.isnull()) | (points.FIXME_1 == 'name')]\n",
        "print(\"Places with uncertain name:\", len(name_empty))\n",
        "dump_points(name_empty, 'name_fixme.geojson')"
      ],
      "outputs": [
        {
          "output_type": "stream",
          "name": "stdout",
          "text": [
            "Places with uncertain name: 137\n"
          ]
        },
        {
          "output_type": "display_data",
          "data": {
            "text/plain": [
              "<IPython.core.display.HTML object>"
            ],
            "text/html": [
              "<pre><a href=\"name_fixme.geojson\">name_fixme.geojson</pre></a>"
            ]
          },
          "metadata": {}
        },
        {
          "output_type": "display_data",
          "data": {
            "text/plain": [
              "<Figure size 432x288 with 1 Axes>"
            ],
            "image/png": "[encoded data removed]"
          },
          "metadata": {
            "needs_background": "light"
          }
        }
      ],
      "execution_count": 76,
      "metadata": {
        "collapsed": true,
        "outputExpanded": false,
        "jupyter": {
          "source_hidden": false,
          "outputs_hidden": false
        },
        "nteract": {
          "transient": {
            "deleting": false
          }
        },
        "execution": {
          "iopub.status.busy": "2020-04-22T09:23:46.111Z",
          "iopub.execute_input": "2020-04-22T09:23:46.122Z",
          "iopub.status.idle": "2020-04-22T09:23:46.322Z",
          "shell.execute_reply": "2020-04-22T09:23:46.348Z"
        }
      }
    },
    {
      "cell_type": "markdown",
      "source": [
        "# Generic FIXME points\n",
        "\n",
        "There should be 0 nodes with a 'fixme' attribue.\n",
        "\n",
        "Some are not remotely fixable, though. This lists points where 'fixme' is not 'name', but something more genereic, usually a human-readable string."
      ],
      "metadata": {
        "nteract": {
          "transient": {
            "deleting": false
          }
        }
      }
    },
    {
      "cell_type": "code",
      "source": [
        "generic_fixme = points[~points.FIXME_1.isin(['name', None])]\n",
        "\n",
        "dump_points(generic_fixme, 'generic_fixme.geojson')"
      ],
      "outputs": [
        {
          "output_type": "display_data",
          "data": {
            "text/plain": [
              "<IPython.core.display.HTML object>"
            ],
            "text/html": [
              "<pre><a href=\"generic_fixme.geojson\">generic_fixme.geojson</pre></a>"
            ]
          },
          "metadata": {}
        },
        {
          "output_type": "display_data",
          "data": {
            "text/plain": [
              "<Figure size 432x288 with 1 Axes>"
            ],
            "image/png": "[encoded data removed]"
          },
          "metadata": {
            "needs_background": "light"
          }
        }
      ],
      "execution_count": 77,
      "metadata": {
        "collapsed": true,
        "outputExpanded": false,
        "jupyter": {
          "source_hidden": false,
          "outputs_hidden": false
        },
        "nteract": {
          "transient": {
            "deleting": false
          }
        },
        "execution": {
          "iopub.status.busy": "2020-04-22T09:23:46.334Z",
          "iopub.execute_input": "2020-04-22T09:23:46.339Z",
          "iopub.status.idle": "2020-04-22T09:23:46.523Z",
          "shell.execute_reply": "2020-04-22T09:23:46.512Z"
        }
      }
    },
    {
      "cell_type": "markdown",
      "source": [
        "# Uppercase ELE and NAME fields are prohibited \n",
        "\n",
        "There shall be 0 nodes with uppercase ELE or NAME fields."
      ],
      "metadata": {
        "nteract": {
          "transient": {
            "deleting": false
          }
        }
      }
    },
    {
      "cell_type": "code",
      "source": [
        "has_uppercase_field = points[\n",
        "    (points.ELE_1.isnull() == False) |\n",
        "    (points.NAME_1.isnull() == False)\n",
        "]\n",
        "\n",
        "print(\"Points with uppercase ELE or NAME field:\", len(has_uppercase_field))\n",
        "if len(has_uppercase_field) > 0:\n",
        "    dump_points(has_uppercase_field, 'has_uppercase_field.geojson')"
      ],
      "outputs": [
        {
          "output_type": "stream",
          "name": "stdout",
          "text": [
            "Points with uppercase ELE or NAME field: 0\n"
          ]
        }
      ],
      "execution_count": 78,
      "metadata": {
        "collapsed": true,
        "outputExpanded": false,
        "jupyter": {
          "source_hidden": false,
          "outputs_hidden": false
        },
        "nteract": {
          "transient": {
            "deleting": false
          }
        },
        "execution": {
          "iopub.status.busy": "2020-04-22T09:23:46.532Z",
          "iopub.execute_input": "2020-04-22T09:23:46.537Z",
          "iopub.status.idle": "2020-04-22T09:23:46.549Z",
          "shell.execute_reply": "2020-04-22T09:23:46.567Z"
        }
      }
    },
    {
      "cell_type": "markdown",
      "source": [
        "# Overlapping Nodes\n",
        "\n",
        "There shall be 0 overlapping nodes."
      ],
      "metadata": {
        "nteract": {
          "transient": {
            "deleting": false
          }
        }
      }
    },
    {
      "cell_type": "code",
      "source": [
        "geom_hash = points.geometry.x.apply(hash) + points.geometry.y.apply(hash)\n",
        "print('Overlapping nodes:', len(geom_hash.unique()) - len(points))"
      ],
      "outputs": [
        {
          "output_type": "stream",
          "name": "stdout",
          "text": [
            "Overlapping nodes: 0\n"
          ]
        }
      ],
      "execution_count": 79,
      "metadata": {
        "collapsed": true,
        "outputExpanded": false,
        "jupyter": {
          "source_hidden": false,
          "outputs_hidden": false
        },
        "nteract": {
          "transient": {
            "deleting": false
          }
        },
        "execution": {
          "iopub.status.busy": "2020-04-22T09:23:46.557Z",
          "iopub.execute_input": "2020-04-22T09:23:46.561Z",
          "iopub.status.idle": "2020-04-22T09:23:46.619Z",
          "shell.execute_reply": "2020-04-22T09:23:46.631Z"
        }
      }
    }
  ],
  "metadata": {
    "kernel_info": {
      "name": "python3"
    },
    "language_info": {
      "name": "python",
      "version": "3.7.5",
      "mimetype": "text/x-python",
      "codemirror_mode": {
        "name": "ipython",
        "version": 3
      },
      "pygments_lexer": "ipython3",
      "nbconvert_exporter": "python",
      "file_extension": ".py"
    },
    "kernelspec": {
      "argv": [
        "/usr/bin/python3",
        "-m",
        "ipykernel_launcher",
        "-f",
        "{connection_file}"
      ],
      "display_name": "Python 3",
      "language": "python",
      "name": "python3"
    },
    "nteract": {
      "version": "0.22.4"
    }
  },
  "nbformat": 4,
  "nbformat_minor": 0
}