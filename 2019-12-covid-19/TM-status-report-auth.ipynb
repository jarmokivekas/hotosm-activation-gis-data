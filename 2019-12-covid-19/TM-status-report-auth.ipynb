{
  "cells": [
    {
      "cell_type": "code",
      "source": [
        "#\n",
        "# This notebook is written in a way intended to be view\n",
        "# with cell inputs hidden. If this comment is visible,\n",
        "# the data is at the end of the report, you may just ignore\n",
        "# all the code.\n",
        "#\n",
        "# intended usage: convert to html with cell execution enabled\n",
        "# > jupyter nbconvert --to=html --no-input --ExecutePreprocessor.enabled=True TM-status-report.ipynb\n",
        "#\n",
        "# if working in the gis repository, run:\n",
        "# > make\n",
        "# to automatically run, convert, and publish of github pages\n"
      ],
      "outputs": [],
      "execution_count": 1,
      "metadata": {
        "collapsed": true,
        "outputExpanded": false,
        "jupyter": {
          "source_hidden": false,
          "outputs_hidden": false
        },
        "nteract": {
          "transient": {
            "deleting": false
          }
        },
        "execution": {
          "iopub.status.busy": "2020-04-24T20:55:15.052Z",
          "iopub.execute_input": "2020-04-24T20:55:15.055Z",
          "iopub.status.idle": "2020-04-24T20:55:15.059Z",
          "shell.execute_reply": "2020-04-24T20:55:15.039Z"
        }
      }
    },
    {
      "cell_type": "markdown",
      "source": [
        "# Tasking Manager COVID-19 projects summary\n"
      ],
      "metadata": {
        "nteract": {
          "transient": {
            "deleting": false
          }
        }
      }
    },
    {
      "cell_type": "markdown",
      "source": [
        "This is a Jupyter notebook for quickly summarizing the status of a HOTOSM Tasking Manager campaing using the TM API.\n"
      ],
      "metadata": {
        "nteract": {
          "transient": {
            "deleting": false
          }
        }
      }
    },
    {
      "cell_type": "code",
      "source": [
        "from datetime import datetime\n",
        "import json\n",
        "import os\n",
        "\n",
        "TOKEN = os.environ.get('HOTOSM_TM_TOKEN', '')\n",
        "print('token:',TOKEN)\n",
        "# set the text search keyword\n",
        "run_params= dict(\n",
        "    textSearch= 'covid',\n",
        "    mapperLevel='ALL',\n",
        "    projectStatuses='DRAFT,PUBLISHED,ARCHIVED',\n",
        "    instance = 'tasks.hotosm.org',\n",
        ")\n",
        "# for notebooks used for reporting, it's nice to\n",
        "# timestamp of the data, since it can get old quickly\n",
        "now = datetime.utcnow()\n",
        "print(f'data last updated: {now} UTC')\n",
        "print(json.dumps(run_params, indent=2))"
      ],
      "outputs": [
        {
          "output_type": "stream",
          "name": "stdout",
          "text": [
            "token: Token TVRRek5qUXlOQS5FWHVKUUEuNEZfMnFZWkpqWjFDTHQ0M245UGdlZXFySm5j\n",
            "data last updated: 2020-04-24 20:55:15.010666 UTC\n",
            "{\n",
            "  \"textSearch\": \"covid\",\n",
            "  \"mapperLevel\": \"ALL\",\n",
            "  \"projectStatuses\": \"DRAFT,PUBLISHED,ARCHIVED\",\n",
            "  \"instance\": \"tasks.hotosm.org\"\n",
            "}\n"
          ]
        }
      ],
      "execution_count": 2,
      "metadata": {
        "collapsed": true,
        "outputExpanded": false,
        "jupyter": {
          "source_hidden": false,
          "outputs_hidden": false
        },
        "nteract": {
          "transient": {
            "deleting": false
          }
        },
        "execution": {
          "iopub.status.busy": "2020-04-24T20:55:15.063Z",
          "iopub.execute_input": "2020-04-24T20:55:15.067Z",
          "iopub.status.idle": "2020-04-24T20:55:15.073Z",
          "shell.execute_reply": "2020-04-24T20:55:15.043Z"
        }
      }
    },
    {
      "cell_type": "code",
      "source": [
        "\n",
        "import requests\n",
        "import json\n",
        "import pandas as pd\n",
        "\n",
        "# make sure pandas doesn't truncate the dataframe when rendered\n",
        "pd.set_option('display.max_rows', 500)\n",
        "\n",
        "def getAllPages(instance='tasks.hotosm.org', textSearch=\"\", mapperLevel='ALL', projectStatuses='', page = 1, token=''):\n",
        "    \n",
        "    # both must be empty, or both must be non-empty\n",
        "    assert (projectStatuses == '') == (token == ''), \"DRAFT and ARCHIVED require auth token\"\n",
        "    request_count = 0\n",
        "    while True:\n",
        "    \n",
        "        url = f\"https://{instance}/api/v1/project/search?textSearch={textSearch}&mapperLevel={mapperLevel}&projectStatuses={projectStatuses}&page={page}\"\n",
        "        r = requests.get(url, \n",
        "            headers = {\n",
        "                'Accept-Language': '*',\n",
        "                'Content-Type': 'application/json',\n",
        "                'Authorization': token\n",
        "            }\n",
        "        )\n",
        "        print(url)\n",
        "        request_count += 1\n",
        "        assert request_count < 100, \"api search query stuck in loop\"\n",
        "        \n",
        "        j = json.loads(r.content)\n",
        "\n",
        "        df = pd.DataFrame(json.loads(r.content)['results'])\n",
        "        df['page'] = page\n",
        "        yield df\n",
        "        if j['pagination']['hasNext'] is True:\n",
        "            page = j['pagination']['nextNum']\n",
        "        else:\n",
        "            break\n",
        "\n",
        "            \n",
        "# concatenate paginated API results into one dataframe\n",
        "result = pd.concat(getAllPages(**run_params, token=TOKEN), ignore_index=True);\n",
        "# search API pagination sometimes returns the same project more than once\n",
        "result = result.drop_duplicates(subset='projectId');\n"
      ],
      "outputs": [
        {
          "output_type": "stream",
          "name": "stdout",
          "text": [
            "https://tasks.hotosm.org/api/v1/project/search?textSearch=covid&mapperLevel=ALL&projectStatuses=DRAFT,PUBLISHED,ARCHIVED&page=1\n",
            "https://tasks.hotosm.org/api/v1/project/search?textSearch=covid&mapperLevel=ALL&projectStatuses=DRAFT,PUBLISHED,ARCHIVED&page=2\n",
            "https://tasks.hotosm.org/api/v1/project/search?textSearch=covid&mapperLevel=ALL&projectStatuses=DRAFT,PUBLISHED,ARCHIVED&page=3\n",
            "https://tasks.hotosm.org/api/v1/project/search?textSearch=covid&mapperLevel=ALL&projectStatuses=DRAFT,PUBLISHED,ARCHIVED&page=4\n",
            "https://tasks.hotosm.org/api/v1/project/search?textSearch=covid&mapperLevel=ALL&projectStatuses=DRAFT,PUBLISHED,ARCHIVED&page=5\n",
            "https://tasks.hotosm.org/api/v1/project/search?textSearch=covid&mapperLevel=ALL&projectStatuses=DRAFT,PUBLISHED,ARCHIVED&page=6\n",
            "https://tasks.hotosm.org/api/v1/project/search?textSearch=covid&mapperLevel=ALL&projectStatuses=DRAFT,PUBLISHED,ARCHIVED&page=7\n",
            "https://tasks.hotosm.org/api/v1/project/search?textSearch=covid&mapperLevel=ALL&projectStatuses=DRAFT,PUBLISHED,ARCHIVED&page=8\n"
          ]
        },
        {
          "output_type": "error",
          "ename": "KeyError",
          "evalue": "'results'",
          "traceback": [
            "\u001b[0;31m---------------------------------------------------------------------------\u001b[0m",
            "\u001b[0;31mKeyError\u001b[0m                                  Traceback (most recent call last)",
            "\u001b[0;32m<ipython-input-3-b6a84737185d>\u001b[0m in \u001b[0;36m<module>\u001b[0;34m()\u001b[0m\n\u001b[1;32m     38\u001b[0m \u001b[0;34m\u001b[0m\u001b[0m\n\u001b[1;32m     39\u001b[0m \u001b[0;31m# concatenate paginated API results into one dataframe\u001b[0m\u001b[0;34m\u001b[0m\u001b[0;34m\u001b[0m\u001b[0;34m\u001b[0m\u001b[0m\n\u001b[0;32m---> 40\u001b[0;31m \u001b[0mresult\u001b[0m \u001b[0;34m=\u001b[0m \u001b[0mpd\u001b[0m\u001b[0;34m.\u001b[0m\u001b[0mconcat\u001b[0m\u001b[0;34m(\u001b[0m\u001b[0mgetAllPages\u001b[0m\u001b[0;34m(\u001b[0m\u001b[0;34m**\u001b[0m\u001b[0mrun_params\u001b[0m\u001b[0;34m,\u001b[0m \u001b[0mtoken\u001b[0m\u001b[0;34m=\u001b[0m\u001b[0mTOKEN\u001b[0m\u001b[0;34m)\u001b[0m\u001b[0;34m,\u001b[0m \u001b[0mignore_index\u001b[0m\u001b[0;34m=\u001b[0m\u001b[0;32mTrue\u001b[0m\u001b[0;34m)\u001b[0m\u001b[0;34m;\u001b[0m\u001b[0;34m\u001b[0m\u001b[0;34m\u001b[0m\u001b[0m\n\u001b[0m\u001b[1;32m     41\u001b[0m \u001b[0;31m# search API pagination sometimes returns the same project more than once\u001b[0m\u001b[0;34m\u001b[0m\u001b[0;34m\u001b[0m\u001b[0;34m\u001b[0m\u001b[0m\n\u001b[1;32m     42\u001b[0m \u001b[0mresult\u001b[0m \u001b[0;34m=\u001b[0m \u001b[0mresult\u001b[0m\u001b[0;34m.\u001b[0m\u001b[0mdrop_duplicates\u001b[0m\u001b[0;34m(\u001b[0m\u001b[0msubset\u001b[0m\u001b[0;34m=\u001b[0m\u001b[0;34m'projectId'\u001b[0m\u001b[0;34m)\u001b[0m\u001b[0;34m;\u001b[0m\u001b[0;34m\u001b[0m\u001b[0;34m\u001b[0m\u001b[0m\n",
            "\u001b[0;32m/home/jarmo/.local/lib/python3.7/site-packages/pandas/core/reshape/concat.py\u001b[0m in \u001b[0;36mconcat\u001b[0;34m(objs, axis, join, ignore_index, keys, levels, names, verify_integrity, sort, copy)\u001b[0m\n\u001b[1;32m    279\u001b[0m         \u001b[0mverify_integrity\u001b[0m\u001b[0;34m=\u001b[0m\u001b[0mverify_integrity\u001b[0m\u001b[0;34m,\u001b[0m\u001b[0;34m\u001b[0m\u001b[0;34m\u001b[0m\u001b[0m\n\u001b[1;32m    280\u001b[0m         \u001b[0mcopy\u001b[0m\u001b[0;34m=\u001b[0m\u001b[0mcopy\u001b[0m\u001b[0;34m,\u001b[0m\u001b[0;34m\u001b[0m\u001b[0;34m\u001b[0m\u001b[0m\n\u001b[0;32m--> 281\u001b[0;31m         \u001b[0msort\u001b[0m\u001b[0;34m=\u001b[0m\u001b[0msort\u001b[0m\u001b[0;34m,\u001b[0m\u001b[0;34m\u001b[0m\u001b[0;34m\u001b[0m\u001b[0m\n\u001b[0m\u001b[1;32m    282\u001b[0m     )\n\u001b[1;32m    283\u001b[0m \u001b[0;34m\u001b[0m\u001b[0m\n",
            "\u001b[0;32m/home/jarmo/.local/lib/python3.7/site-packages/pandas/core/reshape/concat.py\u001b[0m in \u001b[0;36m__init__\u001b[0;34m(self, objs, axis, join, keys, levels, names, ignore_index, verify_integrity, copy, sort)\u001b[0m\n\u001b[1;32m    324\u001b[0m             \u001b[0mobjs\u001b[0m \u001b[0;34m=\u001b[0m \u001b[0;34m[\u001b[0m\u001b[0mobjs\u001b[0m\u001b[0;34m[\u001b[0m\u001b[0mk\u001b[0m\u001b[0;34m]\u001b[0m \u001b[0;32mfor\u001b[0m \u001b[0mk\u001b[0m \u001b[0;32min\u001b[0m \u001b[0mkeys\u001b[0m\u001b[0;34m]\u001b[0m\u001b[0;34m\u001b[0m\u001b[0;34m\u001b[0m\u001b[0m\n\u001b[1;32m    325\u001b[0m         \u001b[0;32melse\u001b[0m\u001b[0;34m:\u001b[0m\u001b[0;34m\u001b[0m\u001b[0;34m\u001b[0m\u001b[0m\n\u001b[0;32m--> 326\u001b[0;31m             \u001b[0mobjs\u001b[0m \u001b[0;34m=\u001b[0m \u001b[0mlist\u001b[0m\u001b[0;34m(\u001b[0m\u001b[0mobjs\u001b[0m\u001b[0;34m)\u001b[0m\u001b[0;34m\u001b[0m\u001b[0;34m\u001b[0m\u001b[0m\n\u001b[0m\u001b[1;32m    327\u001b[0m \u001b[0;34m\u001b[0m\u001b[0m\n\u001b[1;32m    328\u001b[0m         \u001b[0;32mif\u001b[0m \u001b[0mlen\u001b[0m\u001b[0;34m(\u001b[0m\u001b[0mobjs\u001b[0m\u001b[0;34m)\u001b[0m \u001b[0;34m==\u001b[0m \u001b[0;36m0\u001b[0m\u001b[0;34m:\u001b[0m\u001b[0;34m\u001b[0m\u001b[0;34m\u001b[0m\u001b[0m\n",
            "\u001b[0;32m<ipython-input-3-b6a84737185d>\u001b[0m in \u001b[0;36mgetAllPages\u001b[0;34m(instance, textSearch, mapperLevel, projectStatuses, page, token)\u001b[0m\n\u001b[1;32m     28\u001b[0m         \u001b[0mj\u001b[0m \u001b[0;34m=\u001b[0m \u001b[0mjson\u001b[0m\u001b[0;34m.\u001b[0m\u001b[0mloads\u001b[0m\u001b[0;34m(\u001b[0m\u001b[0mr\u001b[0m\u001b[0;34m.\u001b[0m\u001b[0mcontent\u001b[0m\u001b[0;34m)\u001b[0m\u001b[0;34m\u001b[0m\u001b[0;34m\u001b[0m\u001b[0m\n\u001b[1;32m     29\u001b[0m \u001b[0;34m\u001b[0m\u001b[0m\n\u001b[0;32m---> 30\u001b[0;31m         \u001b[0mdf\u001b[0m \u001b[0;34m=\u001b[0m \u001b[0mpd\u001b[0m\u001b[0;34m.\u001b[0m\u001b[0mDataFrame\u001b[0m\u001b[0;34m(\u001b[0m\u001b[0mjson\u001b[0m\u001b[0;34m.\u001b[0m\u001b[0mloads\u001b[0m\u001b[0;34m(\u001b[0m\u001b[0mr\u001b[0m\u001b[0;34m.\u001b[0m\u001b[0mcontent\u001b[0m\u001b[0;34m)\u001b[0m\u001b[0;34m[\u001b[0m\u001b[0;34m'results'\u001b[0m\u001b[0;34m]\u001b[0m\u001b[0;34m)\u001b[0m\u001b[0;34m\u001b[0m\u001b[0;34m\u001b[0m\u001b[0m\n\u001b[0m\u001b[1;32m     31\u001b[0m         \u001b[0mdf\u001b[0m\u001b[0;34m[\u001b[0m\u001b[0;34m'page'\u001b[0m\u001b[0;34m]\u001b[0m \u001b[0;34m=\u001b[0m \u001b[0mpage\u001b[0m\u001b[0;34m\u001b[0m\u001b[0;34m\u001b[0m\u001b[0m\n\u001b[1;32m     32\u001b[0m         \u001b[0;32myield\u001b[0m \u001b[0mdf\u001b[0m\u001b[0;34m\u001b[0m\u001b[0;34m\u001b[0m\u001b[0m\n",
            "\u001b[0;31mKeyError\u001b[0m: 'results'"
          ]
        }
      ],
      "execution_count": 3,
      "metadata": {
        "collapsed": true,
        "outputExpanded": false,
        "jupyter": {
          "source_hidden": false,
          "outputs_hidden": false
        },
        "nteract": {
          "transient": {
            "deleting": false
          }
        },
        "execution": {
          "iopub.status.busy": "2020-04-24T20:55:15.078Z",
          "iopub.execute_input": "2020-04-24T20:55:15.081Z",
          "iopub.status.idle": "2020-04-24T20:55:20.859Z",
          "shell.execute_reply": "2020-04-24T20:55:20.881Z"
        }
      }
    },
    {
      "cell_type": "markdown",
      "source": [
        "# Currently published projects\n",
        "\n",
        "The table below shows the current status of all published projects that include the `covid` keyword.\n",
        "\n",
        "Projects are sorted by project id, meaning they are in somewhat choronological order."
      ],
      "metadata": {
        "nteract": {
          "transient": {
            "deleting": false
          }
        }
      }
    },
    {
      "cell_type": "code",
      "source": [
        "# this cells applyies some sematic style to make the\n",
        "# search summary nicer to read\n",
        "from matplotlib.colors import LinearSegmentedColormap\n",
        "\n",
        "# colors from the HOTOSM media kit :)\n",
        "hotosm_colors = {\n",
        "  \"red\": \"#D73F3F\",\n",
        "  \"red-dark\": \"#6C2020\",\n",
        "  \"red-light\": \"#FFEDED\",\n",
        "  \"orange\": \"#FAA71E\",\n",
        "  \"tan\": \"#F0EFEF\",\n",
        "  \"blue-dark\": \"#2C3038\",\n",
        "  \"blue-grey\": \"#68707F\",\n",
        "  \"blue-light\": \"#929DB3\",\n",
        "  \"grey-light\": \"#E1E0E0\",\n",
        "  \"green\": \"#53AE62\"\n",
        "  }\n",
        "\n",
        "# create a colormap for colorign mappedness and validatedness percentages\n",
        "colors = [hotosm_colors['red'],hotosm_colors['orange'],hotosm_colors['green']]\n",
        "colormap = LinearSegmentedColormap.from_list('hotosm-RdOrGr', colors, N=20)\n",
        "\n",
        "# Pandas dataframe render styler functions\n",
        "def format_priority(val):\n",
        "    \"\"\"set cell color based on proejct priority in TM\"\"\"\n",
        "    lookup = {\n",
        "        'LOW': hotosm_colors['grey-light'],\n",
        "        'MEDIUM': hotosm_colors['green'],\n",
        "        'HIGH': hotosm_colors['orange'],\n",
        "        'URGENT': hotosm_colors['red']\n",
        "    }\n",
        "    color = lookup[val]\n",
        "    return f'background-color: {color}'\n",
        "\n",
        "def format_status(val: str):\n",
        "    \"\"\"set cell color based on proejct status in TM\"\"\"\n",
        "    lookup = {\n",
        "        'ARCHIVED': hotosm_colors['grey-light'],\n",
        "        'PUBLISHED': hotosm_colors['green'],\n",
        "        'DRAFT': hotosm_colors['orange']\n",
        "    }\n",
        "    color = lookup[val]\n",
        "    return f'background-color: {color}'\n",
        "\n",
        "def format_project_link(id):\n",
        "    return f\"https://{search_params['instance']}/project/{id}\"\n",
        "\n",
        "def format_clickable_project_id(id):\n",
        "    url = format_project_link(id)\n",
        "    return f'<a href=\"{url}\">{id}</a>'\n",
        "\n",
        "# Total count of projects\n",
        "print(f'total number of projects: {len(result)}')\n",
        "\n",
        "# We select only the most interesting fields from the dataframe\n",
        "relevant = result[['projectId','name','percentMapped', 'percentValidated','priority','status', 'campaignTag']]\n",
        "\n",
        "# Sorting by project id is somewhat cronological\n",
        "# and also keeps the table order intact as new project are created\n",
        "sorted_vals = relevant.sort_values('projectId')\n",
        "\n",
        "# add a Tasking manager link\n",
        "sorted_vals['hyperlink'] = sorted_vals['projectId'].apply(format_project_link)\n",
        "\n",
        "\n",
        "# write the table out as CSV, so it will be accessible e.g. gy google spreadsheets\n",
        "# index=False removes the pandas internal row index column from the CSV\n",
        "sorted_vals.to_csv('TM-status-report.csv', index=False)\n",
        "\n",
        "# the hyperlink text is just for the CSV\n",
        "# notebook projectId is clickable, so the hyperlink is redundant\n",
        "del sorted_vals['hyperlink']\n",
        "\n",
        "# apply custom styler functions to final table\n",
        "styled = sorted_vals.style\\\n",
        "    .background_gradient(cmap=colormap,subset=['percentMapped', 'percentValidated'])\\\n",
        "    .applymap(format_priority, subset=['priority'])\\\n",
        "    .applymap(format_status  , subset=['status'])\\\n",
        "    .format({'projectId': format_clickable_project_id})\n",
        "\n",
        "\n",
        "display(styled)"
      ],
      "outputs": [
        {
          "output_type": "error",
          "ename": "NameError",
          "evalue": "name 'result' is not defined",
          "traceback": [
            "\u001b[0;31m---------------------------------------------------------------------------\u001b[0m",
            "\u001b[0;31mNameError\u001b[0m                                 Traceback (most recent call last)",
            "\u001b[0;32m<ipython-input-4-1c50fed2ccb9>\u001b[0m in \u001b[0;36m<module>\u001b[0;34m()\u001b[0m\n\u001b[1;32m     51\u001b[0m \u001b[0;34m\u001b[0m\u001b[0m\n\u001b[1;32m     52\u001b[0m \u001b[0;31m# Total count of projects\u001b[0m\u001b[0;34m\u001b[0m\u001b[0;34m\u001b[0m\u001b[0;34m\u001b[0m\u001b[0m\n\u001b[0;32m---> 53\u001b[0;31m \u001b[0mprint\u001b[0m\u001b[0;34m(\u001b[0m\u001b[0;34mf'total number of projects: {len(result)}'\u001b[0m\u001b[0;34m)\u001b[0m\u001b[0;34m\u001b[0m\u001b[0;34m\u001b[0m\u001b[0m\n\u001b[0m\u001b[1;32m     54\u001b[0m \u001b[0;34m\u001b[0m\u001b[0m\n\u001b[1;32m     55\u001b[0m \u001b[0;31m# We select only the most interesting fields from the dataframe\u001b[0m\u001b[0;34m\u001b[0m\u001b[0;34m\u001b[0m\u001b[0;34m\u001b[0m\u001b[0m\n",
            "\u001b[0;31mNameError\u001b[0m: name 'result' is not defined"
          ]
        }
      ],
      "execution_count": 4,
      "metadata": {
        "collapsed": true,
        "outputExpanded": false,
        "jupyter": {
          "source_hidden": false,
          "outputs_hidden": false
        },
        "nteract": {
          "transient": {
            "deleting": false
          }
        },
        "execution": {
          "iopub.status.busy": "2020-04-24T20:55:20.863Z",
          "iopub.execute_input": "2020-04-24T20:55:20.897Z",
          "iopub.status.idle": "2020-04-24T20:55:20.971Z",
          "shell.execute_reply": "2020-04-24T20:55:20.985Z"
        }
      }
    },
    {
      "cell_type": "markdown",
      "source": [
        "Notebook maintained by @jarmokivekas (hotosm slack), feedback and development ideas welcome."
      ],
      "metadata": {
        "nteract": {
          "transient": {
            "deleting": false
          }
        }
      }
    },
    {
      "cell_type": "markdown",
      "source": [],
      "metadata": {
        "nteract": {
          "transient": {
            "deleting": false
          }
        }
      }
    }
  ],
  "metadata": {
    "kernel_info": {
      "name": "python3"
    },
    "language_info": {
      "name": "python",
      "version": "3.7.5",
      "mimetype": "text/x-python",
      "codemirror_mode": {
        "name": "ipython",
        "version": 3
      },
      "pygments_lexer": "ipython3",
      "nbconvert_exporter": "python",
      "file_extension": ".py"
    },
    "kernelspec": {
      "argv": [
        "/usr/bin/python3",
        "-m",
        "ipykernel_launcher",
        "-f",
        "{connection_file}"
      ],
      "display_name": "Python 3",
      "language": "python",
      "name": "python3"
    },
    "gist_id": "d62f512a5e127fc569ac44829afad20f",
    "nteract": {
      "version": "0.22.4"
    }
  },
  "nbformat": 4,
  "nbformat_minor": 0
}