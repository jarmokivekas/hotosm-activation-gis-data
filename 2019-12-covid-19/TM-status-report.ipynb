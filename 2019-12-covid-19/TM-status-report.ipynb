{
  "cells": [
    {
      "cell_type": "code",
      "source": [
        "#\n",
        "# This notebook is written in a way intended to be view\n",
        "# with cell inputs hidden. If this comment is visible,\n",
        "# the data is at the end of the report, you may just ignore\n",
        "# all the code.\n",
        "#\n",
        "# intended usage: convert to html with cell execution enabled\n",
        "# > jupyter nbconvert --to=html --no-input --ExecutePreprocessor.enabled=True TM-status-report.ipynb\n",
        "#\n",
        "# if working in the gis repository, run:\n",
        "# > make\n",
        "# to automatically run, convert, and publish of github pages\n"
      ],
      "outputs": [],
      "execution_count": 1,
      "metadata": {
        "collapsed": true,
        "outputExpanded": false,
        "jupyter": {
          "source_hidden": false,
          "outputs_hidden": false
        },
        "nteract": {
          "transient": {
            "deleting": false
          }
        },
        "execution": {
          "iopub.status.busy": "2020-05-06T16:22:50.611Z",
          "iopub.execute_input": "2020-05-06T16:22:50.616Z",
          "iopub.status.idle": "2020-05-06T16:22:50.622Z",
          "shell.execute_reply": "2020-05-06T16:22:50.594Z"
        }
      }
    },
    {
      "cell_type": "markdown",
      "source": [
        "# Tasking Manager COVID-19 Projects Summary\n"
      ],
      "metadata": {
        "nteract": {
          "transient": {
            "deleting": false
          }
        }
      }
    },
    {
      "cell_type": "markdown",
      "source": [
        "This is a Jupyter notebook for quickly summarizing the status of a HOTOSM Tasking Manager campaing using the TM API.\n",
        "Data show here is periodically updated by and automated bot.\n"
      ],
      "metadata": {
        "nteract": {
          "transient": {
            "deleting": false
          }
        }
      }
    },
    {
      "cell_type": "code",
      "source": [
        "import requests\n",
        "import json\n",
        "import pandas as pd\n",
        "import numpy as np\n",
        "import matplotlib.pyplot as plt\n",
        "from datetime import datetime\n",
        "from IPython.core.display import display, HTML\n",
        "# make sure pandas doesn't truncate the dataframe when rendered\n",
        "pd.set_option('display.max_rows', 500)\n",
        "\n",
        "import tasking_manager_client as tm\n",
        "\n",
        "            \n",
        "# set the text search keyword\n",
        "textSearch = 'covid'\n",
        "projectStatuses = 'ARCHIVED,PUBLISHED,DRAFT'\n",
        "instance = 'tasks.hotosm.org'\n",
        "\n",
        "# for notebooks used for reporting, it's nice to\n",
        "# timestamp of the data, since it can get old quickly\n",
        "now = datetime.utcnow()\n",
        "print(f'data last updated: {now} UTC')\n",
        "print(f'tasking manager:   {instance}')\n",
        "print(f'search keyword:    {textSearch}')"
      ],
      "outputs": [
        {
          "output_type": "stream",
          "name": "stdout",
          "text": [
            "data last updated: 2020-05-06 16:22:51.030128 UTC\n",
            "tasking manager:   tasks.hotosm.org\n",
            "search keyword:    covid\n"
          ]
        }
      ],
      "execution_count": 2,
      "metadata": {
        "collapsed": true,
        "outputExpanded": false,
        "jupyter": {
          "source_hidden": false,
          "outputs_hidden": false
        },
        "nteract": {
          "transient": {
            "deleting": false
          }
        },
        "execution": {
          "iopub.status.busy": "2020-05-06T16:22:50.632Z",
          "iopub.execute_input": "2020-05-06T16:22:50.638Z",
          "iopub.status.idle": "2020-05-06T16:22:51.048Z",
          "shell.execute_reply": "2020-05-06T16:22:51.075Z"
        }
      }
    },
    {
      "cell_type": "code",
      "source": [
        "\n",
        "# concatenate paginated API results into one dataframe\n",
        "result = pd.concat(tm.v2.project_search(textSearch=textSearch, projectStatuses=projectStatuses), ignore_index=True);\n",
        "# search API pagination sometimes returns the same project more than once\n",
        "result = result.drop_duplicates(subset='projectId');\n"
      ],
      "outputs": [],
      "execution_count": 3,
      "metadata": {
        "collapsed": true,
        "outputExpanded": false,
        "jupyter": {
          "source_hidden": false,
          "outputs_hidden": false
        },
        "nteract": {
          "transient": {
            "deleting": false
          }
        },
        "execution": {
          "iopub.status.busy": "2020-05-06T16:22:51.056Z",
          "iopub.execute_input": "2020-05-06T16:22:51.061Z",
          "iopub.status.idle": "2020-05-06T16:22:59.887Z",
          "shell.execute_reply": "2020-05-06T16:22:59.880Z"
        }
      }
    },
    {
      "cell_type": "code",
      "source": [
        "result.count()"
      ],
      "outputs": [
        {
          "output_type": "execute_result",
          "execution_count": 4,
          "data": {
            "text/plain": [
              "projectId            126\n",
              "locale               126\n",
              "name                 126\n",
              "shortDescription     126\n",
              "mapperLevel          126\n",
              "priority             126\n",
              "organisationName     126\n",
              "organisationLogo      22\n",
              "campaign               0\n",
              "percentMapped        126\n",
              "percentValidated     126\n",
              "status               126\n",
              "activeMappers        126\n",
              "lastUpdated          126\n",
              "dueDate                0\n",
              "totalContributors    126\n",
              "country              126\n",
              "page                 126\n",
              "dtype: int64"
            ]
          },
          "metadata": {}
        }
      ],
      "execution_count": 4,
      "metadata": {
        "collapsed": true,
        "outputExpanded": false,
        "jupyter": {
          "source_hidden": false,
          "outputs_hidden": false
        },
        "nteract": {
          "transient": {
            "deleting": false
          }
        },
        "execution": {
          "iopub.status.busy": "2020-05-06T16:22:59.900Z",
          "iopub.execute_input": "2020-05-06T16:22:59.907Z",
          "iopub.status.idle": "2020-05-06T16:22:59.921Z",
          "shell.execute_reply": "2020-05-06T16:22:59.997Z"
        }
      }
    },
    {
      "cell_type": "code",
      "source": [
        "def get_summaries():\n",
        "  for idx, project in result.iterrows():\n",
        "\n",
        "\n",
        "    endpoint = f'/api/v2/projects/{project.projectId}/statistics/'\n",
        "    r = requests.get('https://' + tm.DEFAULT_INSTANCE_API + endpoint)\n",
        "    df = pd.json_normalize(r.json())\n",
        "    yield df\n",
        "\n",
        "summaries = pd.concat(get_summaries())\n",
        "# summaries"
      ],
      "outputs": [],
      "execution_count": 6,
      "metadata": {
        "collapsed": true,
        "outputExpanded": false,
        "jupyter": {
          "source_hidden": false,
          "outputs_hidden": false
        },
        "nteract": {
          "transient": {
            "deleting": false
          }
        },
        "execution": {
          "iopub.status.busy": "2020-05-06T16:22:59.967Z",
          "iopub.execute_input": "2020-05-06T16:22:59.974Z",
          "iopub.status.idle": "2020-05-06T16:24:11.571Z",
          "shell.execute_reply": "2020-05-06T16:24:11.561Z"
        }
      }
    },
    {
      "cell_type": "code",
      "source": [
        "cols_to_use = summaries.columns.difference(result.columns)\n",
        "result = result.merge(summaries, suffixes=('', '_duplicate'), how='outer')\n",
        "result.drop(result.filter(regex='_duplicate$').columns.tolist(),axis=1, inplace=True)\n",
        "result.columns"
      ],
      "outputs": [
        {
          "output_type": "execute_result",
          "execution_count": 7,
          "data": {
            "text/plain": [
              "Index(['projectId', 'locale', 'name', 'shortDescription', 'mapperLevel',\n",
              "       'priority', 'organisationName', 'organisationLogo', 'campaign',\n",
              "       'percentMapped', 'percentValidated', 'status', 'activeMappers',\n",
              "       'lastUpdated', 'dueDate', 'totalContributors', 'country', 'page',\n",
              "       'projectArea(in sq.km)', 'totalMappers', 'totalTasks', 'totalComments',\n",
              "       'totalMappingTime', 'totalValidationTime', 'totalTimeSpent',\n",
              "       'averageMappingTime', 'averageValidationTime', 'percentBadImagery',\n",
              "       'aoiCentroid.type', 'aoiCentroid.coordinates'],\n",
              "      dtype='object')"
            ]
          },
          "metadata": {}
        }
      ],
      "execution_count": 7,
      "metadata": {
        "collapsed": true,
        "outputExpanded": false,
        "jupyter": {
          "source_hidden": false,
          "outputs_hidden": false
        },
        "nteract": {
          "transient": {
            "deleting": false
          }
        },
        "execution": {
          "iopub.status.busy": "2020-05-06T16:24:11.584Z",
          "iopub.execute_input": "2020-05-06T16:24:11.593Z",
          "iopub.status.idle": "2020-05-06T16:24:11.607Z",
          "shell.execute_reply": "2020-05-06T16:24:11.639Z"
        }
      }
    },
    {
      "cell_type": "markdown",
      "source": [
        "## Current Published and Archived Projects"
      ],
      "metadata": {
        "nteract": {
          "transient": {
            "deleting": false
          }
        }
      }
    },
    {
      "cell_type": "code",
      "source": [
        "\n",
        "# Total count of projects\n",
        "print('Published projects:', len(result[result.status == 'PUBLISHED']))\n",
        "print('Archived projects: ', len(result[result.status == 'ARCHIVED']))\n",
        "print('Total projects:    ', len(result))\n",
        "\n",
        "fig, axs = plt.subplots(1,2, sharey=True, figsize=(10,5))\n",
        "ax = axs[0]\n",
        "ax.set_ylabel('Project Count')\n",
        "ax.set_xlabel('Percent completed')\n",
        "ax.hist(result.percentMapped)\n",
        "ax.set_title('Percent Mapped')\n",
        "ax.grid()\n",
        "ax = axs[1]\n",
        "ax.grid()\n",
        "ax.set_title('Percent Validated')\n",
        "ax.hist(result.percentValidated)\n",
        "plt.show()"
      ],
      "outputs": [
        {
          "output_type": "stream",
          "name": "stdout",
          "text": [
            "Published projects: 89\n",
            "Archived projects:  15\n",
            "Total projects:     126\n"
          ]
        },
        {
          "output_type": "display_data",
          "data": {
            "text/plain": [
              "<Figure size 720x360 with 2 Axes>"
            ],
            "image/png": "[encoded data removed]"
          },
          "metadata": {
            "needs_background": "light"
          }
        }
      ],
      "execution_count": 8,
      "metadata": {
        "collapsed": true,
        "outputExpanded": false,
        "jupyter": {
          "source_hidden": false,
          "outputs_hidden": false
        },
        "nteract": {
          "transient": {
            "deleting": false
          }
        },
        "execution": {
          "iopub.status.busy": "2020-05-06T16:24:11.618Z",
          "iopub.execute_input": "2020-05-06T16:24:11.624Z",
          "iopub.status.idle": "2020-05-06T16:24:11.973Z",
          "shell.execute_reply": "2020-05-06T16:24:12.002Z"
        }
      }
    },
    {
      "cell_type": "markdown",
      "source": [
        "\n",
        "\n",
        "The table below shows the current status of all published and archived projects that include the `covid` keyword.\n",
        "\n",
        "Projects are sorted by project id, meaning they are in somewhat choronological order.\n",
        "\n",
        "You can click the project Id to open it in TM."
      ],
      "metadata": {
        "nteract": {
          "transient": {
            "deleting": false
          }
        }
      }
    },
    {
      "cell_type": "code",
      "source": [
        "# We select only the most interesting fields from the dataframe\n",
        "\n",
        "result['projectArea(in sq.km)'] = result['projectArea(in sq.km)'].apply(int)\n",
        "result['country'] = result['country'].apply(lambda val: val[0] if isinstance(val, list) else val)\n",
        "\n",
        "sorted_vals = result.sort_values('projectId')\n",
        "sorted_vals['hyperlink'] = sorted_vals['projectId'].apply(tm.style.format_project_link)\n",
        "del sorted_vals['shortDescription']\n",
        "del sorted_vals['aoiCentroid.type']\n",
        "del sorted_vals['organisationLogo']\n",
        "sorted_vals.to_csv('TM-status-report.csv', index=False)\n",
        "del sorted_vals['hyperlink']\n",
        "\n",
        "\n",
        "\n",
        "# apply custom styler functions to final table\n",
        "styled = sorted_vals.style\\\n",
        "    .background_gradient(cmap=tm.style.hotosm_cmap(),subset=['percentMapped', 'percentValidated'])\\\n",
        "    .applymap(tm.style.format_priority, subset=['priority'])\\\n",
        "    .applymap(tm.style.format_status, subset=['status'])\\\n",
        "    .format({'projectId': tm.style.format_clickable_project_id})\n",
        "\n",
        "\n",
        "display(styled)"
      ],
      "outputs": [
        {
          "output_type": "error",
          "ename": "NameError",
          "evalue": "name 'result' is not defined",
          "traceback": [
            "\u001b[0;31m---------------------------------------------------------------------------\u001b[0m",
            "\u001b[0;31mNameError\u001b[0m                                 Traceback (most recent call last)",
            "\u001b[0;32m<ipython-input-1-4bdacf8f1ba5>\u001b[0m in \u001b[0;36m<module>\u001b[0;34m()\u001b[0m\n\u001b[1;32m      1\u001b[0m \u001b[0;31m# We select only the most interesting fields from the dataframe\u001b[0m\u001b[0;34m\u001b[0m\u001b[0;34m\u001b[0m\u001b[0;34m\u001b[0m\u001b[0m\n\u001b[1;32m      2\u001b[0m \u001b[0;34m\u001b[0m\u001b[0m\n\u001b[0;32m----> 3\u001b[0;31m \u001b[0mresult\u001b[0m\u001b[0;34m[\u001b[0m\u001b[0;34m'projectArea(in sq.km)'\u001b[0m\u001b[0;34m]\u001b[0m \u001b[0;34m=\u001b[0m \u001b[0mresult\u001b[0m\u001b[0;34m[\u001b[0m\u001b[0;34m'projectArea(in sq.km)'\u001b[0m\u001b[0;34m]\u001b[0m\u001b[0;34m.\u001b[0m\u001b[0mapply\u001b[0m\u001b[0;34m(\u001b[0m\u001b[0mint\u001b[0m\u001b[0;34m)\u001b[0m\u001b[0;34m\u001b[0m\u001b[0;34m\u001b[0m\u001b[0m\n\u001b[0m\u001b[1;32m      4\u001b[0m \u001b[0mresult\u001b[0m\u001b[0;34m[\u001b[0m\u001b[0;34m'country'\u001b[0m\u001b[0;34m]\u001b[0m \u001b[0;34m=\u001b[0m \u001b[0mresult\u001b[0m\u001b[0;34m[\u001b[0m\u001b[0;34m'country'\u001b[0m\u001b[0;34m]\u001b[0m\u001b[0;34m.\u001b[0m\u001b[0mapply\u001b[0m\u001b[0;34m(\u001b[0m\u001b[0;32mlambda\u001b[0m \u001b[0mval\u001b[0m\u001b[0;34m:\u001b[0m \u001b[0mval\u001b[0m\u001b[0;34m[\u001b[0m\u001b[0;36m0\u001b[0m\u001b[0;34m]\u001b[0m \u001b[0;32mif\u001b[0m \u001b[0misinstance\u001b[0m\u001b[0;34m(\u001b[0m\u001b[0mval\u001b[0m\u001b[0;34m,\u001b[0m \u001b[0mlist\u001b[0m\u001b[0;34m)\u001b[0m \u001b[0;32melse\u001b[0m \u001b[0mval\u001b[0m\u001b[0;34m)\u001b[0m\u001b[0;34m\u001b[0m\u001b[0;34m\u001b[0m\u001b[0m\n\u001b[1;32m      5\u001b[0m \u001b[0;34m\u001b[0m\u001b[0m\n",
            "\u001b[0;31mNameError\u001b[0m: name 'result' is not defined"
          ]
        }
      ],
      "execution_count": 1,
      "metadata": {
        "collapsed": true,
        "outputExpanded": false,
        "jupyter": {
          "source_hidden": false,
          "outputs_hidden": false
        },
        "nteract": {
          "transient": {
            "deleting": false
          }
        },
        "execution": {
          "iopub.status.busy": "2020-05-07T04:20:12.316Z",
          "iopub.execute_input": "2020-05-07T04:20:12.330Z",
          "iopub.status.idle": "2020-05-07T04:20:12.350Z",
          "shell.execute_reply": "2020-05-07T04:20:12.434Z"
        }
      }
    },
    {
      "cell_type": "markdown",
      "source": [
        "Notebook maintained by @jarmokivekas (GitHub & HOTOSM Slack), feedback and development ideas welcome."
      ],
      "metadata": {
        "nteract": {
          "transient": {
            "deleting": false
          }
        }
      }
    }
  ],
  "metadata": {
    "kernel_info": {
      "name": "python3"
    },
    "language_info": {
      "name": "python",
      "version": "3.7.5",
      "mimetype": "text/x-python",
      "codemirror_mode": {
        "name": "ipython",
        "version": 3
      },
      "pygments_lexer": "ipython3",
      "nbconvert_exporter": "python",
      "file_extension": ".py"
    },
    "kernelspec": {
      "argv": [
        "/usr/bin/python3",
        "-m",
        "ipykernel_launcher",
        "-f",
        "{connection_file}"
      ],
      "display_name": "Python 3",
      "language": "python",
      "name": "python3"
    },
    "gist_id": "d62f512a5e127fc569ac44829afad20f",
    "nteract": {
      "version": "0.23.1"
    }
  },
  "nbformat": 4,
  "nbformat_minor": 0
}